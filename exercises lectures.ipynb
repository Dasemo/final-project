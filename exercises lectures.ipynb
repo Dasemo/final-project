{
 "cells": [
  {
   "cell_type": "code",
   "execution_count": 3,
   "metadata": {},
   "outputs": [],
   "source": [
    "class Product:\n",
    "    def __init__(self, name, price):\n",
    "        self.name, self.price = name, price\n",
    "    \n",
    "    @property\n",
    "    def name(self) -> str:\n",
    "        return self.__name\n",
    "    \n",
    "    @name.setter\n",
    "    def name(self, name:str):\n",
    "        if type(name) != str:\n",
    "            raise TypeError(\"Name must be a string.\")\n",
    "        else:\n",
    "            self.__name = name\n",
    "    \n",
    "    @property\n",
    "    def price(self) -> float:\n",
    "        return self.__price\n",
    "    \n",
    "    @price.setter\n",
    "    def price(self, price:float):\n",
    "        if type(price) != float:\n",
    "            raise TypeError(\"Price must be a float number.\")\n",
    "        elif price < 0:\n",
    "            raise ValueError(\"Price must be greater than 0.\")\n",
    "        else:\n",
    "            self.__price = price\n",
    "    \n",
    "    def __str__(self):\n",
    "        return self.name + \" \" + str(self.price) + \"€\"\n",
    "    def __repr__(self):\n",
    "        return self.__str__()\n",
    "    def __eq__(self, another) -> bool:\n",
    "        if type(another) != Product:\n",
    "            raise TypeError(\"Cannot compare\" + str(type(self)) + \"and\" + str(type(another)))\n",
    "        else:\n",
    "            return self.name == another.name and self.price == another.price\n",
    "\n",
    "    def black_friday(self):\n",
    "        self.price = self.price * 4\n",
    "        self.price = self.price // 2 "
   ]
  },
  {
   "cell_type": "code",
   "execution_count": 4,
   "metadata": {},
   "outputs": [
    {
     "name": "stdout",
     "output_type": "stream",
     "text": [
      "shoes 22.0€\n"
     ]
    }
   ],
   "source": [
    "p1 = Product(\"shoes\", 22.0)\n",
    "print(p1)"
   ]
  }
 ],
 "metadata": {
  "kernelspec": {
   "display_name": "Python 3",
   "language": "python",
   "name": "python3"
  },
  "language_info": {
   "codemirror_mode": {
    "name": "ipython",
    "version": 3
   },
   "file_extension": ".py",
   "mimetype": "text/x-python",
   "name": "python",
   "nbconvert_exporter": "python",
   "pygments_lexer": "ipython3",
   "version": "3.9.6"
  }
 },
 "nbformat": 4,
 "nbformat_minor": 2
}
