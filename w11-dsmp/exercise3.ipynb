{
 "cells": [
  {
   "cell_type": "code",
   "execution_count": 4,
   "metadata": {},
   "outputs": [],
   "source": [
    "class Time:\n",
    "    def __init__(self, start_hours, start_minutes, end_hours, end_minutes):\n",
    "        self.start_hours = start_hours\n",
    "        self.start_minutes = start_minutes\n",
    "        self.end_hours = end_hours\n",
    "        self.end_minutes = end_minutes\n",
    "    \n",
    "    @property\n",
    "    def start_hours(self) -> int:\n",
    "        return self.__start_hours\n",
    "    \n",
    "    @start_hours.setter\n",
    "    def start_hours(self, start_hours:int):\n",
    "        if type(start_hours) != int:\n",
    "            raise TypeError(\"Hours must be a number.\")\n",
    "        elif 0 > start_hours >= 24:\n",
    "            raise ValueError(\"Hours must be a number between 0 and 23.\")\n",
    "        else:\n",
    "            self.__start_hours = start_hours\n",
    "    \n",
    "    @property\n",
    "    def start_minutes(self) -> int:\n",
    "        return self.__start_minutes\n",
    "    \n",
    "    @start_minutes.setter\n",
    "    def start_minutes(self, start_minutes:int):\n",
    "        if type(start_minutes) != int:\n",
    "            raise TypeError(\"Minutes must be a number.\")\n",
    "        elif 0 > start_minutes >= 60:\n",
    "            raise ValueError(\"Minutes must be a number between 0 and 60.\")\n",
    "        else:\n",
    "            self.__start_minutes = start_minutes\n",
    "    \n",
    "    @property\n",
    "    def end_hours(self) -> int:\n",
    "        return self.__end_hours\n",
    "    \n",
    "    @end_hours.setter\n",
    "    def end_hours(self, end_hours:int):\n",
    "        if type(end_hours) != int:\n",
    "            raise TypeError(\"Hours must be a number.\")\n",
    "        elif 0 > end_hours >= 24:\n",
    "            raise ValueError(\"Hours must be a number between 0 and 23.\")\n",
    "        else:\n",
    "            self.__end_hours = end_hours\n",
    "    \n",
    "    @property\n",
    "    def end_minutes(self) -> int:\n",
    "        return self.__end_minutes\n",
    "    \n",
    "    @end_minutes.setter\n",
    "    def end_minutes(self, end_minutes:int):\n",
    "        if type(end_minutes) != int:\n",
    "            raise TypeError(\"Minutes must be a number.\")\n",
    "        elif 0 > end_minutes >= 60:\n",
    "            raise ValueError(\"Minutes must be a number between 0 and 60.\")\n",
    "        else:\n",
    "            self.__end_minutes = end_minutes\n",
    "    \n",
    "    def set_day_periods(self):\n",
    "        if 0 <= self.start_hours < 6 or 18 <= self.end_hours < 24:\n",
    "            self.periods = \"night\"\n",
    "        elif 8 <= self.start_hours < 12:\n",
    "            self.periods = \"morning\"\n",
    "        elif 12 <= self.start_hours < 18:\n",
    "            self.periods = \"afternoon\"\n",
    "        elif 18 <= self.start_hours < 24:\n",
    "            self.periods += \"evening\"\n",
    "        \n",
    "        if self.end_hours >= 12 and self.start_hours < 12:\n",
    "            self.periods += \" morning afternoon\"\n",
    "        elif self.end_hours >= 18 and self.start_hours < 18:\n",
    "            self.periods += \" afternoon evening\"\n",
    "    \n",
    "    def __str__(self):\n",
    "        return f\"Time interval: [{self.start_hours}:{self.start_minutes}-{self.end_hours}:{self.end_minutes}] \\n Runs through: {self.periods}\""
   ]
  },
  {
   "cell_type": "code",
   "execution_count": 5,
   "metadata": {},
   "outputs": [
    {
     "ename": "AttributeError",
     "evalue": "'Time' object has no attribute 'periods'",
     "output_type": "error",
     "traceback": [
      "\u001b[0;31m---------------------------------------------------------------------------\u001b[0m",
      "\u001b[0;31mAttributeError\u001b[0m                            Traceback (most recent call last)",
      "\u001b[1;32m/Users/dani/python carrera/w11-dsmp/exercise3.ipynb Cell 2\u001b[0m line \u001b[0;36m1\n\u001b[0;32m----> <a href='vscode-notebook-cell:/Users/dani/python%20carrera/w11-dsmp/exercise3.ipynb#W1sZmlsZQ%3D%3D?line=0'>1</a>\u001b[0m \u001b[39mprint\u001b[39;49m(Time(\u001b[39m11\u001b[39;49m, \u001b[39m59\u001b[39;49m, \u001b[39m12\u001b[39;49m, \u001b[39m18\u001b[39;49m))\n",
      "\u001b[1;32m/Users/dani/python carrera/w11-dsmp/exercise3.ipynb Cell 2\u001b[0m line \u001b[0;36m7\n\u001b[1;32m     <a href='vscode-notebook-cell:/Users/dani/python%20carrera/w11-dsmp/exercise3.ipynb#W1sZmlsZQ%3D%3D?line=74'>75</a>\u001b[0m \u001b[39mdef\u001b[39;00m \u001b[39m__str__\u001b[39m(\u001b[39mself\u001b[39m):\n\u001b[0;32m---> <a href='vscode-notebook-cell:/Users/dani/python%20carrera/w11-dsmp/exercise3.ipynb#W1sZmlsZQ%3D%3D?line=75'>76</a>\u001b[0m     \u001b[39mreturn\u001b[39;00m \u001b[39mf\u001b[39m\u001b[39m\"\u001b[39m\u001b[39mTime interval: [\u001b[39m\u001b[39m{\u001b[39;00m\u001b[39mself\u001b[39m\u001b[39m.\u001b[39mstart_hours\u001b[39m}\u001b[39;00m\u001b[39m:\u001b[39m\u001b[39m{\u001b[39;00m\u001b[39mself\u001b[39m\u001b[39m.\u001b[39mstart_minutes\u001b[39m}\u001b[39;00m\u001b[39m-\u001b[39m\u001b[39m{\u001b[39;00m\u001b[39mself\u001b[39m\u001b[39m.\u001b[39mend_hours\u001b[39m}\u001b[39;00m\u001b[39m:\u001b[39m\u001b[39m{\u001b[39;00m\u001b[39mself\u001b[39m\u001b[39m.\u001b[39mend_minutes\u001b[39m}\u001b[39;00m\u001b[39m] \u001b[39m\u001b[39m\\n\u001b[39;00m\u001b[39m Runs through: \u001b[39m\u001b[39m{\u001b[39;00m\u001b[39mself\u001b[39m\u001b[39m.\u001b[39mperiods\u001b[39m}\u001b[39;00m\u001b[39m\"\u001b[39m\n",
      "\u001b[0;31mAttributeError\u001b[0m: 'Time' object has no attribute 'periods'"
     ]
    }
   ],
   "source": [
    "print(Time(11, 59, 12, 18))"
   ]
  }
 ],
 "metadata": {
  "kernelspec": {
   "display_name": "Python 3",
   "language": "python",
   "name": "python3"
  },
  "language_info": {
   "codemirror_mode": {
    "name": "ipython",
    "version": 3
   },
   "file_extension": ".py",
   "mimetype": "text/x-python",
   "name": "python",
   "nbconvert_exporter": "python",
   "pygments_lexer": "ipython3",
   "version": "3.9.6"
  }
 },
 "nbformat": 4,
 "nbformat_minor": 2
}
